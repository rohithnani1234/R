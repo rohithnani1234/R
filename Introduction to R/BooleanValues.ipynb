{
 "cells": [
  {
   "cell_type": "raw",
   "id": "100c7a7b-aa99-4772-81e4-77e702fe7d41",
   "metadata": {},
   "source": [
    "Booleans(LogicalValues)\n",
    "we can evaluate any expression in R and get one of two answers,TRUE or FALSE\n"
   ]
  },
  {
   "cell_type": "code",
   "execution_count": 1,
   "id": "b33766c6-54b7-43f7-9cf9-85ec523cbbd9",
   "metadata": {},
   "outputs": [
    {
     "data": {
      "text/plain": [
       "True"
      ]
     },
     "execution_count": 1,
     "metadata": {},
     "output_type": "execute_result"
    }
   ],
   "source": [
    "10>9"
   ]
  },
  {
   "cell_type": "code",
   "execution_count": 2,
   "id": "65c9d952-aa21-4e38-94ab-b137ab9c1857",
   "metadata": {},
   "outputs": [
    {
     "data": {
      "text/plain": [
       "False"
      ]
     },
     "execution_count": 2,
     "metadata": {},
     "output_type": "execute_result"
    }
   ],
   "source": [
    "10==9"
   ]
  },
  {
   "cell_type": "code",
   "execution_count": 3,
   "id": "db267733-5de5-4aa1-9838-b071fd1c6fd1",
   "metadata": {},
   "outputs": [
    {
     "data": {
      "text/plain": [
       "False"
      ]
     },
     "execution_count": 3,
     "metadata": {},
     "output_type": "execute_result"
    }
   ],
   "source": [
    "10<9"
   ]
  },
  {
   "cell_type": "code",
   "execution_count": 1,
   "id": "a73875d3-0e75-4af6-879b-8f9c144498b1",
   "metadata": {},
   "outputs": [
    {
     "data": {
      "text/html": [
       "FALSE"
      ],
      "text/latex": [
       "FALSE"
      ],
      "text/markdown": [
       "FALSE"
      ],
      "text/plain": [
       "[1] FALSE"
      ]
     },
     "metadata": {},
     "output_type": "display_data"
    }
   ],
   "source": [
    "a<-10\n",
    "b<-9\n",
    "a<b"
   ]
  },
  {
   "cell_type": "code",
   "execution_count": 2,
   "id": "2ebb2dda-0504-4db3-99d3-a8628ea9f25c",
   "metadata": {},
   "outputs": [
    {
     "name": "stdout",
     "output_type": "stream",
     "text": [
      "[1] \"a is greater than b\"\n"
     ]
    }
   ],
   "source": [
    "a<-200\n",
    "b<-33\n",
    "if (b>a){\n",
    "    print('b is greater than a')\n",
    "} else{\n",
    "    print('a is greater than b')\n",
    "}"
   ]
  },
  {
   "cell_type": "code",
   "execution_count": null,
   "id": "a823ef8e-e233-4231-8b6b-c6d1b7c9e745",
   "metadata": {},
   "outputs": [],
   "source": []
  }
 ],
 "metadata": {
  "kernelspec": {
   "display_name": "R",
   "language": "R",
   "name": "ir"
  },
  "language_info": {
   "codemirror_mode": "r",
   "file_extension": ".r",
   "mimetype": "text/x-r-source",
   "name": "R",
   "pygments_lexer": "r",
   "version": "3.6.1"
  }
 },
 "nbformat": 4,
 "nbformat_minor": 5
}
