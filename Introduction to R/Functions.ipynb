{
 "cells": [
  {
   "cell_type": "markdown",
   "id": "2c79c424-7e1a-49dc-9845-72547d389fa7",
   "metadata": {},
   "source": [
    "# Functions\n",
    "- A function is a block of code which only runs when it is called.\n",
    "- we can pass data,known as parameters,into a function.\n",
    "- a function can return data as a result.\n",
    "- To create a function, use the function() keyword."
   ]
  },
  {
   "cell_type": "code",
   "execution_count": 1,
   "id": "cf95618c-ea70-43f2-b8bb-9ee256712c3d",
   "metadata": {},
   "outputs": [],
   "source": [
    "my_function <- function() { # create a function with the name my_function\n",
    "  print(\"Hello World!\")\n",
    "}"
   ]
  },
  {
   "cell_type": "markdown",
   "id": "870d4fb1-9fa7-429b-888a-da0d6a3dbda5",
   "metadata": {},
   "source": [
    "- To call a function ,use the function name followed by paranthesis,like my_function()"
   ]
  },
  {
   "cell_type": "code",
   "execution_count": 2,
   "id": "0979898c-72db-43d6-8340-3a8625071d61",
   "metadata": {},
   "outputs": [
    {
     "name": "stdout",
     "output_type": "stream",
     "text": [
      "[1] \"Hello World!\"\n"
     ]
    }
   ],
   "source": [
    "my_function()"
   ]
  },
  {
   "cell_type": "markdown",
   "id": "4fd2f1a7-44be-4fb5-b402-5d01fad10296",
   "metadata": {},
   "source": [
    "# Arguments\n",
    "- information can be passed into functions as arguments.\n",
    "- Arguments are specified afetr the function name,inside the parantheses.We can add as many arguments as you want,just separate them with a comma."
   ]
  },
  {
   "cell_type": "code",
   "execution_count": 1,
   "id": "38e9758d-7853-43d1-9a04-331daeb15131",
   "metadata": {},
   "outputs": [
    {
     "data": {
      "text/html": [
       "'Peter Griffin'"
      ],
      "text/latex": [
       "'Peter Griffin'"
      ],
      "text/markdown": [
       "'Peter Griffin'"
      ],
      "text/plain": [
       "[1] \"Peter Griffin\""
      ]
     },
     "metadata": {},
     "output_type": "display_data"
    },
    {
     "data": {
      "text/html": [
       "'Lois Griffin'"
      ],
      "text/latex": [
       "'Lois Griffin'"
      ],
      "text/markdown": [
       "'Lois Griffin'"
      ],
      "text/plain": [
       "[1] \"Lois Griffin\""
      ]
     },
     "metadata": {},
     "output_type": "display_data"
    },
    {
     "data": {
      "text/html": [
       "'Stewie Griffin'"
      ],
      "text/latex": [
       "'Stewie Griffin'"
      ],
      "text/markdown": [
       "'Stewie Griffin'"
      ],
      "text/plain": [
       "[1] \"Stewie Griffin\""
      ]
     },
     "metadata": {},
     "output_type": "display_data"
    }
   ],
   "source": [
    "my_function<-function(fname){\n",
    "    paste(fname,'Griffin')\n",
    "}\n",
    "my_function('Peter')\n",
    "my_function('Lois')\n",
    "my_function('Stewie')"
   ]
  },
  {
   "cell_type": "markdown",
   "id": "76e177e4-9422-4103-a7e2-0c29f1f56848",
   "metadata": {},
   "source": [
    "- the terms 'parameter' and 'argument' can be used for the same thing:information that are passed into a function.\n",
    "- from a function's perspective:\n",
    "- - a parameter is the variable listed inside the parentheses in the function definition\n",
    "  - an argument is the value that is sent to the function when it is called.\n",
    "- By deault, a function must be called with the correct numner of arguments."
   ]
  },
  {
   "cell_type": "code",
   "execution_count": 4,
   "id": "ced395e3-f7e4-4120-9900-119331121343",
   "metadata": {},
   "outputs": [
    {
     "data": {
      "text/html": [
       "'Rohith Meesala'"
      ],
      "text/latex": [
       "'Rohith Meesala'"
      ],
      "text/markdown": [
       "'Rohith Meesala'"
      ],
      "text/plain": [
       "[1] \"Rohith Meesala\""
      ]
     },
     "metadata": {},
     "output_type": "display_data"
    }
   ],
   "source": [
    "my_function<-function(fname,lname){\n",
    "    paste(fname,lname)\n",
    "}\n",
    "my_function('Rohith','Meesala')"
   ]
  },
  {
   "cell_type": "code",
   "execution_count": 5,
   "id": "c287bd20-0f87-4106-adff-f9c17b4bd3b4",
   "metadata": {},
   "outputs": [
    {
     "ename": "ERROR",
     "evalue": "Error in paste(fname, lname): argument \"lname\" is missing, with no default\n",
     "output_type": "error",
     "traceback": [
      "Error in paste(fname, lname): argument \"lname\" is missing, with no default\nTraceback:\n",
      "1. my_function(\"Rohith\")",
      "2. paste(fname, lname)   # at line 2 of file <text>"
     ]
    }
   ],
   "source": [
    "my_function<-function(fname,lname){\n",
    "    paste(fname,lname)\n",
    "}\n",
    "my_function('Rohith')"
   ]
  },
  {
   "cell_type": "markdown",
   "id": "be6fd05e-45a2-4232-98fe-c77d3e67b7ee",
   "metadata": {},
   "source": [
    "# Default paramter value\n",
    "- if we call the fucntion without an argument,it uses the default one"
   ]
  },
  {
   "cell_type": "code",
   "execution_count": 6,
   "id": "3de47ea7-2752-4301-97c6-35a59976776e",
   "metadata": {},
   "outputs": [
    {
     "data": {
      "text/html": [
       "'i am from sweden'"
      ],
      "text/latex": [
       "'i am from sweden'"
      ],
      "text/markdown": [
       "'i am from sweden'"
      ],
      "text/plain": [
       "[1] \"i am from sweden\""
      ]
     },
     "metadata": {},
     "output_type": "display_data"
    },
    {
     "data": {
      "text/html": [
       "'i am from Norway'"
      ],
      "text/latex": [
       "'i am from Norway'"
      ],
      "text/markdown": [
       "'i am from Norway'"
      ],
      "text/plain": [
       "[1] \"i am from Norway\""
      ]
     },
     "metadata": {},
     "output_type": "display_data"
    },
    {
     "data": {
      "text/html": [
       "'i am from USA'"
      ],
      "text/latex": [
       "'i am from USA'"
      ],
      "text/markdown": [
       "'i am from USA'"
      ],
      "text/plain": [
       "[1] \"i am from USA\""
      ]
     },
     "metadata": {},
     "output_type": "display_data"
    }
   ],
   "source": [
    "my_function<-function(country='Norway'){\n",
    "    paste('i am from',country)\n",
    "}\n",
    "my_function('sweden')\n",
    "my_function() #here it will take default parameter value as prints norway\n",
    "my_function('USA')"
   ]
  },
  {
   "cell_type": "markdown",
   "id": "fa54c9eb-93a8-4e30-912f-d00a5359abdb",
   "metadata": {},
   "source": [
    "# Return values\n",
    "- To let a function return a result,use the return() function"
   ]
  },
  {
   "cell_type": "code",
   "execution_count": 7,
   "id": "2fad465c-e5b5-471a-9a10-f0deb0c8ab4e",
   "metadata": {},
   "outputs": [
    {
     "name": "stdout",
     "output_type": "stream",
     "text": [
      "[1] 15\n",
      "[1] 25\n",
      "[1] 45\n"
     ]
    }
   ],
   "source": [
    "my_function<-function(x){\n",
    "    return(5*x)\n",
    "}\n",
    "print(my_function(3))\n",
    "print(my_function(5))\n",
    "print(my_function(9))"
   ]
  },
  {
   "cell_type": "markdown",
   "id": "b8b7c555-a287-47e8-bb50-113d1f03e447",
   "metadata": {},
   "source": [
    "# Nested Functions\n",
    "- There are two ways to create a nested fucntion:\n",
    "- - call a function within another function\n",
    "  - write a function within a function\n"
   ]
  },
  {
   "cell_type": "code",
   "execution_count": 11,
   "id": "bd0a0f19-7d50-4981-a735-532829280e14",
   "metadata": {},
   "outputs": [
    {
     "data": {
      "text/html": [
       "10"
      ],
      "text/latex": [
       "10"
      ],
      "text/markdown": [
       "10"
      ],
      "text/plain": [
       "[1] 10"
      ]
     },
     "metadata": {},
     "output_type": "display_data"
    }
   ],
   "source": [
    "#call a function within another function\n",
    "nested_function<-function(x,y)\n",
    "{\n",
    "    a<-x+y\n",
    "    return(a)\n",
    "}\n",
    "nested_function(nested_function(2,2),nested_function(3,3))\n",
    "#Example Explained\n",
    "#The function tells x to add y.\n",
    "#The first input Nested_function(2,2) is \"x\" of the main function.\n",
    "#The second input Nested_function(3,3) is \"y\" of the main function.\n",
    "#The output is therefore (2+2) + (3+3) = 10."
   ]
  },
  {
   "cell_type": "code",
   "execution_count": 12,
   "id": "34c16ded-f79c-4288-b94c-87df1fe59406",
   "metadata": {},
   "outputs": [
    {
     "data": {
      "text/html": [
       "8"
      ],
      "text/latex": [
       "8"
      ],
      "text/markdown": [
       "8"
      ],
      "text/plain": [
       "[1] 8"
      ]
     },
     "metadata": {},
     "output_type": "display_data"
    }
   ],
   "source": [
    "#write a function within a function\n",
    "outer_function<-function(x){\n",
    "    Inner_function<-function(y){\n",
    "        a<-x+y\n",
    "        return(a)\n",
    "    }\n",
    "    return(Inner_function)\n",
    "}\n",
    "output<-outer_function(3)\n",
    "output(5)"
   ]
  },
  {
   "cell_type": "markdown",
   "id": "f5e9eb66-4db2-4638-b685-57f9314d146d",
   "metadata": {},
   "source": [
    "- we cannot directly call the function because the inner_function has been defined(nested) inside the outer_function\n",
    "- we need to call outer_function first in order to call inner_function as a second step\n",
    "- we need to create a new variable called output and give it a value , which ios 3 here\n",
    "- we then print the output with the desired value of 'y',which in this case is 5\n",
    "- the output is 3+5=8"
   ]
  },
  {
   "cell_type": "markdown",
   "id": "34ab1b0b-d2d8-45c8-a7d4-614082b1d3c5",
   "metadata": {},
   "source": [
    "# R Function recursion"
   ]
  },
  {
   "cell_type": "markdown",
   "id": "6b10b57a-3513-4dd2-8ba0-7d026ddfc589",
   "metadata": {},
   "source": [
    "- R also accepts fucntion recursion ,which means a defined function can call itself\n",
    "- Recursion is common mathematical and programming concept.It means thet a function call iteslef.this has the benefit of meaning that you can loop through data to reach a result.\n",
    "- The developer should be very careful with recursion as it can be quite easy to slip into writing a function which never terminates, or one that uses excess amounts of memory or processor power. However, when written correctly, recursion can be a very efficient and mathematically-elegant approach to programming."
   ]
  },
  {
   "cell_type": "code",
   "execution_count": 13,
   "id": "bf33e822-dac6-4167-9682-2007db68750c",
   "metadata": {},
   "outputs": [
    {
     "name": "stdout",
     "output_type": "stream",
     "text": [
      "[1] 1\n",
      "[1] 3\n",
      "[1] 6\n",
      "[1] 10\n",
      "[1] 15\n",
      "[1] 21\n"
     ]
    }
   ],
   "source": [
    "tri_recursion<-function(k){\n",
    "    if(k>0){\n",
    "        result<- k+tri_recursion(k-1)\n",
    "        print(result)\n",
    "    } else {\n",
    "        result=0\n",
    "        return(result)\n",
    "    }\n",
    "}\n",
    "tri_recursion(6)"
   ]
  },
  {
   "cell_type": "markdown",
   "id": "adcb9307-d9e2-40b6-9328-76a354aa8cde",
   "metadata": {},
   "source": [
    "# Global Variable"
   ]
  },
  {
   "cell_type": "markdown",
   "id": "7f9c8ba5-7231-4be7-81b7-6043cf8f5296",
   "metadata": {},
   "source": [
    "- variables that are created outside of a fucntion are known as global variables.\n",
    "- Global variables can be used by everyone,both inside of functions and outside"
   ]
  },
  {
   "cell_type": "code",
   "execution_count": 15,
   "id": "b9322953-ab97-4743-b8ae-7a1866246f3d",
   "metadata": {},
   "outputs": [
    {
     "data": {
      "text/html": [
       "'R is awesome'"
      ],
      "text/latex": [
       "'R is awesome'"
      ],
      "text/markdown": [
       "'R is awesome'"
      ],
      "text/plain": [
       "[1] \"R is awesome\""
      ]
     },
     "metadata": {},
     "output_type": "display_data"
    }
   ],
   "source": [
    "txt<-'awesome'\n",
    "my_function<-function(){\n",
    "    paste('R is',txt)\n",
    "}\n",
    "my_function()"
   ]
  },
  {
   "cell_type": "markdown",
   "id": "2930eab8-414d-4939-8800-233d01a480b2",
   "metadata": {},
   "source": [
    "- If we create a variable with the same name inside a function,this variable will be local and can only be used inside the function.\n",
    "- the global variable with te same name will remain as it was,global and with the original value."
   ]
  },
  {
   "cell_type": "code",
   "execution_count": 16,
   "id": "172594ad-d914-47a0-894a-065650f6a054",
   "metadata": {},
   "outputs": [
    {
     "data": {
      "text/html": [
       "'R is fantastic'"
      ],
      "text/latex": [
       "'R is fantastic'"
      ],
      "text/markdown": [
       "'R is fantastic'"
      ],
      "text/plain": [
       "[1] \"R is fantastic\""
      ]
     },
     "metadata": {},
     "output_type": "display_data"
    },
    {
     "data": {
      "text/html": [
       "'global variable'"
      ],
      "text/latex": [
       "'global variable'"
      ],
      "text/markdown": [
       "'global variable'"
      ],
      "text/plain": [
       "[1] \"global variable\""
      ]
     },
     "metadata": {},
     "output_type": "display_data"
    }
   ],
   "source": [
    "txt<-'global variable'\n",
    "my_function<-function(){\n",
    "    txt='fantastic'\n",
    "    paste('R is',txt)\n",
    "}\n",
    "my_function()\n",
    "txt"
   ]
  },
  {
   "cell_type": "markdown",
   "id": "e6d32fa4-56bd-4dd7-84da-cb67d45ba380",
   "metadata": {},
   "source": [
    "# Global Assignment operator\n",
    "- when we create a variable inside a function,that variable is local,and can only be used inside that fucntion\n",
    "- to create a global variable inside a function,you can use the global assignment operator <<-"
   ]
  },
  {
   "cell_type": "code",
   "execution_count": 17,
   "id": "16a6461e-84c9-460c-8c79-cefe307c2187",
   "metadata": {},
   "outputs": [
    {
     "data": {
      "text/html": [
       "'R is fantastic'"
      ],
      "text/latex": [
       "'R is fantastic'"
      ],
      "text/markdown": [
       "'R is fantastic'"
      ],
      "text/plain": [
       "[1] \"R is fantastic\""
      ]
     },
     "metadata": {},
     "output_type": "display_data"
    }
   ],
   "source": [
    "my_function<-function(){\n",
    "    txt<<-'fantastic'\n",
    "        paste('R is',txt)\n",
    "}\n",
    "my_function()"
   ]
  },
  {
   "cell_type": "markdown",
   "id": "549360bc-d5eb-4212-a81b-bf89214d4e2d",
   "metadata": {},
   "source": [
    "- To change the value of a global variable inside a function,refer to the variable by using the global assignment operator <<-."
   ]
  },
  {
   "cell_type": "code",
   "execution_count": 18,
   "id": "f140591a-862c-4efb-8240-164aa8821f58",
   "metadata": {},
   "outputs": [
    {
     "data": {
      "text/html": [
       "'R is fantastic'"
      ],
      "text/latex": [
       "'R is fantastic'"
      ],
      "text/markdown": [
       "'R is fantastic'"
      ],
      "text/plain": [
       "[1] \"R is fantastic\""
      ]
     },
     "metadata": {},
     "output_type": "display_data"
    },
    {
     "data": {
      "text/html": [
       "'R is fantastic'"
      ],
      "text/latex": [
       "'R is fantastic'"
      ],
      "text/markdown": [
       "'R is fantastic'"
      ],
      "text/plain": [
       "[1] \"R is fantastic\""
      ]
     },
     "metadata": {},
     "output_type": "display_data"
    }
   ],
   "source": [
    "txt<-'awesome'\n",
    "my_function<-function(){\n",
    "    txt<<-'fantastic'\n",
    "    paste('R is',txt)\n",
    "}\n",
    "my_function()\n",
    "paste('R is',txt)"
   ]
  },
  {
   "cell_type": "code",
   "execution_count": null,
   "id": "3c87a40b-0a13-4026-bd68-5c07f7ae80c3",
   "metadata": {},
   "outputs": [],
   "source": []
  }
 ],
 "metadata": {
  "kernelspec": {
   "display_name": "R",
   "language": "R",
   "name": "ir"
  },
  "language_info": {
   "codemirror_mode": "r",
   "file_extension": ".r",
   "mimetype": "text/x-r-source",
   "name": "R",
   "pygments_lexer": "r",
   "version": "3.6.1"
  }
 },
 "nbformat": 4,
 "nbformat_minor": 5
}
