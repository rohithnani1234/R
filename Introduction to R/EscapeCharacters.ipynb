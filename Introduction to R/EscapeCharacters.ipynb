{
 "cells": [
  {
   "cell_type": "raw",
   "id": "1f78ca76-fa47-4969-ae61-91c66fe2ffdf",
   "metadata": {},
   "source": [
    "Escape Characters:\n",
    "-to insert characters that are illegal in a string,we must use an escape character.\n",
    "-an escape character is backslash \\ followed by the character you want to insert.\n",
    "other Escape characters in R:\n",
    "    -\\\\ - Backslash\n",
    "    -\\n - New Line\n",
    "    -\\r - Carriage Return\n",
    "    -\\t - Tab\n",
    "    -\\b - backspace"
   ]
  },
  {
   "cell_type": "code",
   "execution_count": 1,
   "id": "34013b79-6e0c-448d-bdd5-838ea7d196d2",
   "metadata": {},
   "outputs": [
    {
     "data": {
      "text/html": [
       "'We are the so-called \"vikings\", form the north'"
      ],
      "text/latex": [
       "'We are the so-called \"vikings\", form the north'"
      ],
      "text/markdown": [
       "'We are the so-called \"vikings\", form the north'"
      ],
      "text/plain": [
       "[1] \"We are the so-called \\\"vikings\\\", form the north\""
      ]
     },
     "metadata": {},
     "output_type": "display_data"
    }
   ],
   "source": [
    "str<-'We are the so-called \"vikings\", form the north'\n",
    "str #here we have type error because we have used the double quotations with out using escape character , so it will show an error"
   ]
  },
  {
   "cell_type": "code",
   "execution_count": 2,
   "id": "4dd50832-4eb0-49a1-9158-38e211fcc27f",
   "metadata": {},
   "outputs": [
    {
     "data": {
      "text/html": [
       "'We are the so-called \"Vikings\",from the north.'"
      ],
      "text/latex": [
       "'We are the so-called \"Vikings\",from the north.'"
      ],
      "text/markdown": [
       "'We are the so-called \"Vikings\",from the north.'"
      ],
      "text/plain": [
       "[1] \"We are the so-called \\\"Vikings\\\",from the north.\""
      ]
     },
     "metadata": {},
     "output_type": "display_data"
    }
   ],
   "source": [
    "#for that we will follow\n",
    "str<-\"We are the so-called \\\"Vikings\\\",from the north.\"\n",
    "str"
   ]
  },
  {
   "cell_type": "code",
   "execution_count": 4,
   "id": "1d42181d-c69a-431c-942d-8417c00feb74",
   "metadata": {},
   "outputs": [
    {
     "name": "stdout",
     "output_type": "stream",
     "text": [
      "We are the so-called \"Vikings\",from the north."
     ]
    }
   ],
   "source": [
    "cat(str)\n",
    "#that auto-printing string variable will print the backslash in the output.we can use the cat() func to print it without backslash"
   ]
  },
  {
   "cell_type": "code",
   "execution_count": null,
   "id": "1af4c443-1ddb-4369-8275-6e439f29f44a",
   "metadata": {},
   "outputs": [],
   "source": []
  }
 ],
 "metadata": {
  "kernelspec": {
   "display_name": "R",
   "language": "R",
   "name": "ir"
  },
  "language_info": {
   "codemirror_mode": "r",
   "file_extension": ".r",
   "mimetype": "text/x-r-source",
   "name": "R",
   "pygments_lexer": "r",
   "version": "3.6.1"
  }
 },
 "nbformat": 4,
 "nbformat_minor": 5
}
