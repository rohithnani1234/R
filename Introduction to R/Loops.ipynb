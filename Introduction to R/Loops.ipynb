{
 "cells": [
  {
   "cell_type": "markdown",
   "id": "c7c84d95-5eff-42f1-89a7-df4ad6f54b76",
   "metadata": {},
   "source": [
    "# Loops:\n",
    "- loops:loops can execute a block of code as along as specified condtion is reached.\n",
    "- loops are handy because they save time,reduce errors,and they make code more readble.\n",
    "- R has two loop commands:\n",
    "    -while loop\n",
    "    -for loop\n",
    "\n",
    "# While loop:\n",
    "- with the while loop we can execute a set of statements as long as a condition is true\n",
    "- the while loop requires relevant variables to be ready,\n",
    "- note:remember to increment i,or else the loop will continue forever.\n",
    "\n",
    "# Break:\n",
    "- with te break statements ,we cam stop the lop even if the while condition is TRUE.\n",
    "\n",
    "# Next:\n",
    "- with the next statement, we can skip an iteration without terminating the loop."
   ]
  },
  {
   "cell_type": "code",
   "execution_count": 1,
   "id": "3b9e411c-8c9d-4bdd-a270-21afefd6d72d",
   "metadata": {},
   "outputs": [
    {
     "name": "stdout",
     "output_type": "stream",
     "text": [
      "[1] 1\n",
      "[1] 2\n",
      "[1] 3\n",
      "[1] 4\n",
      "[1] 5\n"
     ]
    }
   ],
   "source": [
    "i<-1\n",
    "while(i<6){\n",
    "    print(i)\n",
    "    i<-i+1\n",
    "}"
   ]
  },
  {
   "cell_type": "code",
   "execution_count": null,
   "id": "baf7d133-df28-4457-8738-8954cb7a8d62",
   "metadata": {},
   "outputs": [],
   "source": [
    "i<-1\n",
    "while (i<6){\n",
    "    print(i)\n",
    "    i<-i+1\n",
    "    if (i==4){\n",
    "        break\n",
    "    }\n",
    "}"
   ]
  },
  {
   "cell_type": "code",
   "execution_count": null,
   "id": "fa94ca6b-147a-42c1-ae1d-8ca3c43dc622",
   "metadata": {},
   "outputs": [],
   "source": [
    "i<-0\n",
    "while(i<-6){\n",
    "    i<-i+1\n",
    "    if(i==3){\n",
    "        next\n",
    "    }\n",
    "    print(i)\n",
    "}"
   ]
  },
  {
   "cell_type": "code",
   "execution_count": null,
   "id": "34c4ae4a-da28-4934-9363-e487d4ec91f7",
   "metadata": {},
   "outputs": [],
   "source": [
    "dice<-1\n",
    "while (i<=6){\n",
    "    if (dice<6){\n",
    "        print('No Yahtzee')\n",
    "    } else {\n",
    "        print('Yahtzee')\n",
    "    }\n",
    "    dice<-dice+1\n",
    "}"
   ]
  },
  {
   "cell_type": "markdown",
   "id": "b1c9a053-e9e2-487d-9de0-20ee9dd84bcf",
   "metadata": {},
   "source": [
    "# For loop\n",
    "- A for loop is used for iterating over a sequence.\n",
    "- This is less like the for keyword in other programming languageas and works more like an iterator method as found in other object-oriented programming languages.\n",
    "- with the fot loop we can execute a set of statements ,once for each item in a vector,array,list,etc.."
   ]
  },
  {
   "cell_type": "code",
   "execution_count": 1,
   "id": "1af53831-3472-42ac-bbc7-d5aff9dbfa2a",
   "metadata": {},
   "outputs": [
    {
     "name": "stdout",
     "output_type": "stream",
     "text": [
      "[1] 1\n",
      "[1] 2\n",
      "[1] 3\n",
      "[1] 4\n",
      "[1] 5\n",
      "[1] 6\n",
      "[1] 7\n",
      "[1] 8\n",
      "[1] 9\n",
      "[1] 10\n"
     ]
    }
   ],
   "source": [
    "for (x in 1:10){\n",
    "    print(x)\n",
    "}"
   ]
  },
  {
   "cell_type": "code",
   "execution_count": 3,
   "id": "bbfce70c-ba55-4c27-897d-5bac6cadac6f",
   "metadata": {},
   "outputs": [
    {
     "name": "stdout",
     "output_type": "stream",
     "text": [
      "[1] \"apple\"\n",
      "[1] \"banana\"\n",
      "[1] \"cherry\"\n"
     ]
    }
   ],
   "source": [
    "fruits<-list('apple','banana','cherry')\n",
    "for (x in fruits){\n",
    "    print(x)\n",
    "}"
   ]
  },
  {
   "cell_type": "code",
   "execution_count": 4,
   "id": "7007d628-36c3-4552-9018-de509ae4a995",
   "metadata": {},
   "outputs": [
    {
     "name": "stdout",
     "output_type": "stream",
     "text": [
      "[1] 1\n",
      "[1] 2\n",
      "[1] 3\n",
      "[1] 4\n",
      "[1] 5\n",
      "[1] 6\n"
     ]
    }
   ],
   "source": [
    "dice<-c(1,2,3,4,5,6)\n",
    "for (x in dice){\n",
    "    print(x)\n",
    "}"
   ]
  },
  {
   "cell_type": "markdown",
   "id": "799f1574-8d0e-49c1-bad4-b355993bd1ef",
   "metadata": {},
   "source": [
    "- The for loop does not require an indexing variable to set beforehand,like with while loops\n",
    "- with the break statement,we can stop the loop before it has looped through all the items"
   ]
  },
  {
   "cell_type": "code",
   "execution_count": 5,
   "id": "0d6064ee-a37c-480d-b450-10a1e8ebcc37",
   "metadata": {},
   "outputs": [
    {
     "name": "stdout",
     "output_type": "stream",
     "text": [
      "[1] \"apple\"\n",
      "[1] \"banana\"\n"
     ]
    }
   ],
   "source": [
    "fruits<-list('apple','banana','cherry','dragon-fruit')\n",
    "for(x in fruits){\n",
    "    if (x=='cherry'){\n",
    "        break\n",
    "    }\n",
    "    print(x)\n",
    "}"
   ]
  },
  {
   "cell_type": "markdown",
   "id": "c311c44f-4ffd-4dc3-88e6-1b28432b2bf3",
   "metadata": {},
   "source": [
    "- With the next statement,we can skip an iteration without terminating the loop."
   ]
  },
  {
   "cell_type": "code",
   "execution_count": 6,
   "id": "cbdbec84-626f-45b5-8226-179ca64809d8",
   "metadata": {},
   "outputs": [
    {
     "name": "stdout",
     "output_type": "stream",
     "text": [
      "[1] \"apple\"\n",
      "[1] \"cherry\"\n"
     ]
    }
   ],
   "source": [
    "fruits<-list('apple','banana','cherry')\n",
    "for (x in fruits){\n",
    "    if(x=='banana'){\n",
    "        next\n",
    "    }\n",
    "    print(x)\n",
    "}"
   ]
  },
  {
   "cell_type": "markdown",
   "id": "a0ed0d7e-360a-41d2-919a-6478b872768b",
   "metadata": {},
   "source": [
    "# Nested Loops"
   ]
  },
  {
   "cell_type": "markdown",
   "id": "43066b1e-2cb6-47d1-9793-30726132e893",
   "metadata": {},
   "source": [
    "- It is also possible to place loop inside another loop.This is calles nested loop"
   ]
  },
  {
   "cell_type": "code",
   "execution_count": 8,
   "id": "68020aa7-8ff5-4fd3-b85a-8a85c84ced4f",
   "metadata": {},
   "outputs": [
    {
     "name": "stdout",
     "output_type": "stream",
     "text": [
      "[1] \"red apple\"\n",
      "[1] \"red banana\"\n",
      "[1] \"red cherry\"\n",
      "[1] \"big apple\"\n",
      "[1] \"big banana\"\n",
      "[1] \"big cherry\"\n",
      "[1] \"tasty apple\"\n",
      "[1] \"tasty banana\"\n",
      "[1] \"tasty cherry\"\n"
     ]
    }
   ],
   "source": [
    "adj<-list('red','big','tasty')\n",
    "fruits<-list('apple','banana','cherry')\n",
    "for(x in adj){\n",
    "    for(y in fruits){\n",
    "        print(paste(x,y))\n",
    "    }\n",
    "}"
   ]
  },
  {
   "cell_type": "code",
   "execution_count": null,
   "id": "c11989a6-df08-4258-b9e1-45380dd5d18b",
   "metadata": {},
   "outputs": [],
   "source": []
  }
 ],
 "metadata": {
  "kernelspec": {
   "display_name": "R",
   "language": "R",
   "name": "ir"
  },
  "language_info": {
   "codemirror_mode": "r",
   "file_extension": ".r",
   "mimetype": "text/x-r-source",
   "name": "R",
   "pygments_lexer": "r",
   "version": "3.6.1"
  }
 },
 "nbformat": 4,
 "nbformat_minor": 5
}
