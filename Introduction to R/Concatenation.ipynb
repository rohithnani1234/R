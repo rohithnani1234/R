{
 "cells": [
  {
   "cell_type": "code",
   "execution_count": 4,
   "id": "4386f35d-a8ab-41af-b3b1-efe11090fd4d",
   "metadata": {},
   "outputs": [
    {
     "data": {
      "text/html": [
       "<span style=white-space:pre-wrap>'R is  awesome'</span>"
      ],
      "text/latex": [
       "'R is  awesome'"
      ],
      "text/markdown": [
       "<span style=white-space:pre-wrap>'R is  awesome'</span>"
      ],
      "text/plain": [
       "[1] \"R is  awesome\""
      ]
     },
     "metadata": {},
     "output_type": "display_data"
    }
   ],
   "source": [
    "#Concatenation in R\n",
    "#paste() -- is used to canocatenate the two or more elements\n",
    "#to combine both text and a variable , R use comma(,)\n",
    "text<-'awesome'\n",
    "paste('R is ', text)"
   ]
  },
  {
   "cell_type": "code",
   "execution_count": 5,
   "id": "3a5c1e9b-221c-4883-8828-0b058b0df545",
   "metadata": {},
   "outputs": [
    {
     "data": {
      "text/html": [
       "'R is awesome'"
      ],
      "text/latex": [
       "'R is awesome'"
      ],
      "text/markdown": [
       "'R is awesome'"
      ],
      "text/plain": [
       "[1] \"R is awesome\""
      ]
     },
     "metadata": {},
     "output_type": "display_data"
    }
   ],
   "source": [
    "text1<-'R is'\n",
    "text2<-'awesome'\n",
    "paste(text1,text2)"
   ]
  },
  {
   "cell_type": "code",
   "execution_count": 6,
   "id": "b26f004e-709e-4054-989c-233f0bacae2e",
   "metadata": {},
   "outputs": [
    {
     "data": {
      "text/html": [
       "15"
      ],
      "text/latex": [
       "15"
      ],
      "text/markdown": [
       "15"
      ],
      "text/plain": [
       "[1] 15"
      ]
     },
     "metadata": {},
     "output_type": "display_data"
    }
   ],
   "source": [
    "num1<-5\n",
    "num2<-10\n",
    "num1+num2"
   ]
  },
  {
   "cell_type": "code",
   "execution_count": 7,
   "id": "6a375bcb-d1ac-4f9b-8dcc-9aef240ff489",
   "metadata": {},
   "outputs": [
    {
     "ename": "ERROR",
     "evalue": "Error in num + text: non-numeric argument to binary operator\n",
     "output_type": "error",
     "traceback": [
      "Error in num + text: non-numeric argument to binary operator\nTraceback:\n"
     ]
    }
   ],
   "source": [
    "num<-5\n",
    "text<-'Some text'\n",
    "num+text"
   ]
  },
  {
   "cell_type": "code",
   "execution_count": 8,
   "id": "e6072bdd-8580-4e83-ab6f-205e85909177",
   "metadata": {},
   "outputs": [
    {
     "data": {
      "text/html": [
       "'5 Some text'"
      ],
      "text/latex": [
       "'5 Some text'"
      ],
      "text/markdown": [
       "'5 Some text'"
      ],
      "text/plain": [
       "[1] \"5 Some text\""
      ]
     },
     "metadata": {},
     "output_type": "display_data"
    }
   ],
   "source": [
    "paste(num,text)"
   ]
  },
  {
   "cell_type": "code",
   "execution_count": null,
   "id": "bd0f81a5-3eb5-455f-8bdf-9a029bd8bb56",
   "metadata": {},
   "outputs": [],
   "source": []
  }
 ],
 "metadata": {
  "kernelspec": {
   "display_name": "R",
   "language": "R",
   "name": "ir"
  },
  "language_info": {
   "codemirror_mode": "r",
   "file_extension": ".r",
   "mimetype": "text/x-r-source",
   "name": "R",
   "pygments_lexer": "r",
   "version": "3.6.1"
  }
 },
 "nbformat": 4,
 "nbformat_minor": 5
}
