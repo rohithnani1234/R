{
 "cells": [
  {
   "cell_type": "raw",
   "id": "9abbc6e7-3d82-4ac9-b3ec-c43f3d56f2bc",
   "metadata": {},
   "source": [
    "The if statement:\n",
    "-an 'if statement' is written with the if keyword, and it is used to sepcify a block of code to be executed if a condition is TRUE\n",
    "-R uses curly  brackets {} to define the scope in the code.\n",
    "\n",
    "Else if:\n",
    "-the else if keyword is R's way of saying 'if previous conditions were not true,then try this condition.\n",
    "\n",
    "If Else:\n",
    "-the else keyword catches anything which isn't caught by the preceding conditions.\n",
    "\n",
    "Nested if:\n",
    "-we can also have if statements inside if statements , this is called nested if statements.\n"
   ]
  },
  {
   "cell_type": "code",
   "execution_count": 3,
   "id": "d2abb774-349a-4754-8852-597ed25963df",
   "metadata": {},
   "outputs": [
    {
     "name": "stdout",
     "output_type": "stream",
     "text": [
      "[1] \"a is smaller than b\"\n"
     ]
    }
   ],
   "source": [
    "a<-33\n",
    "b<-200\n",
    "if (a<b){\n",
    "    print('a is smaller than b')\n",
    "}"
   ]
  },
  {
   "cell_type": "code",
   "execution_count": 4,
   "id": "905072f1-0fc3-4550-a2f4-6cbda302c63a",
   "metadata": {},
   "outputs": [
    {
     "name": "stdout",
     "output_type": "stream",
     "text": [
      "[1] \"both are equal\"\n"
     ]
    }
   ],
   "source": [
    "a<-33\n",
    "b<-33\n",
    "if (a<b){\n",
    "    print('a is greater than b')\n",
    "} else if(a==b){\n",
    "    print('both are equal')\n",
    "}"
   ]
  },
  {
   "cell_type": "code",
   "execution_count": 5,
   "id": "1840a421-1184-4f06-b85f-f56c4f033e4a",
   "metadata": {},
   "outputs": [
    {
     "name": "stdout",
     "output_type": "stream",
     "text": [
      "[1] \"a is greater than b\"\n"
     ]
    }
   ],
   "source": [
    "a<-200\n",
    "b<-33\n",
    "if (a>b){\n",
    "    print('a is greater than b')\n",
    "} else if(a==b) {\n",
    "    print('both are equal')\n",
    "} else {\n",
    "    print('b is greater than a')\n",
    "}"
   ]
  },
  {
   "cell_type": "code",
   "execution_count": null,
   "id": "63ff44b8-747a-4795-918e-d6fe513ad0c9",
   "metadata": {},
   "outputs": [],
   "source": [
    "x<-41\n",
    "if(x>10){\n",
    "    print('Above ten')\n",
    "    if (x>20){\n",
    "        print('and also above"
   ]
  }
 ],
 "metadata": {
  "kernelspec": {
   "display_name": "R",
   "language": "R",
   "name": "ir"
  },
  "language_info": {
   "codemirror_mode": "r",
   "file_extension": ".r",
   "mimetype": "text/x-r-source",
   "name": "R",
   "pygments_lexer": "r",
   "version": "3.6.1"
  }
 },
 "nbformat": 4,
 "nbformat_minor": 5
}
