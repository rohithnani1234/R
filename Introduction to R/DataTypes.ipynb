{
 "cells": [
  {
   "cell_type": "raw",
   "id": "1e4f2177-2b69-4e5d-bc26-d2d395a54a77",
   "metadata": {},
   "source": [
    "Data Types:\n",
    "    -numeric -10.5,55,787,....\n",
    "    -integer -1L,55L,100L  ----- where L indicates this as an integer\n",
    "    -complex -9+3i\n",
    "    -character-(a.k.a string) -----'k','R','False','11.5'\n",
    "    -logical -(a.k.a boolean)-TRUE or FALSE\n",
    "-We can use the class() function to check the data type of the variable"
   ]
  },
  {
   "cell_type": "code",
   "execution_count": 1,
   "id": "7b2bb75b-e228-4f3b-a5a4-1bc2c8561c0f",
   "metadata": {},
   "outputs": [
    {
     "data": {
      "text/html": [
       "'numeric'"
      ],
      "text/latex": [
       "'numeric'"
      ],
      "text/markdown": [
       "'numeric'"
      ],
      "text/plain": [
       "[1] \"numeric\""
      ]
     },
     "metadata": {},
     "output_type": "display_data"
    }
   ],
   "source": [
    "x<-1.0\n",
    "class(x)"
   ]
  },
  {
   "cell_type": "code",
   "execution_count": 2,
   "id": "5a66d120-932e-4e8e-b72a-39ee333e3b56",
   "metadata": {},
   "outputs": [
    {
     "data": {
      "text/html": [
       "'integer'"
      ],
      "text/latex": [
       "'integer'"
      ],
      "text/markdown": [
       "'integer'"
      ],
      "text/plain": [
       "[1] \"integer\""
      ]
     },
     "metadata": {},
     "output_type": "display_data"
    }
   ],
   "source": [
    "x<-100L\n",
    "class(x)"
   ]
  },
  {
   "cell_type": "code",
   "execution_count": 3,
   "id": "8a153ea2-55d7-465b-9f63-f36cbbf93cb9",
   "metadata": {},
   "outputs": [
    {
     "data": {
      "text/html": [
       "'character'"
      ],
      "text/latex": [
       "'character'"
      ],
      "text/markdown": [
       "'character'"
      ],
      "text/plain": [
       "[1] \"character\""
      ]
     },
     "metadata": {},
     "output_type": "display_data"
    }
   ],
   "source": [
    "x <- 'R is exiciting'\n",
    "class(x)"
   ]
  },
  {
   "cell_type": "code",
   "execution_count": 5,
   "id": "e8b631cf-a5cd-4e0e-8394-d70d9695c53a",
   "metadata": {},
   "outputs": [
    {
     "data": {
      "text/html": [
       "'complex'"
      ],
      "text/latex": [
       "'complex'"
      ],
      "text/markdown": [
       "'complex'"
      ],
      "text/plain": [
       "[1] \"complex\""
      ]
     },
     "metadata": {},
     "output_type": "display_data"
    }
   ],
   "source": [
    "x<-9+3i\n",
    "class(x)"
   ]
  },
  {
   "cell_type": "code",
   "execution_count": 6,
   "id": "4bf6309f-0ec7-46b9-a7eb-89c5046876ff",
   "metadata": {},
   "outputs": [
    {
     "data": {
      "text/html": [
       "'logical'"
      ],
      "text/latex": [
       "'logical'"
      ],
      "text/markdown": [
       "'logical'"
      ],
      "text/plain": [
       "[1] \"logical\""
      ]
     },
     "metadata": {},
     "output_type": "display_data"
    }
   ],
   "source": [
    "x<-TRUE\n",
    "class(x)"
   ]
  },
  {
   "cell_type": "code",
   "execution_count": null,
   "id": "13cc37bb-093c-4f76-b6da-a65fd1196c30",
   "metadata": {},
   "outputs": [],
   "source": []
  }
 ],
 "metadata": {
  "kernelspec": {
   "display_name": "R",
   "language": "R",
   "name": "ir"
  },
  "language_info": {
   "codemirror_mode": "r",
   "file_extension": ".r",
   "mimetype": "text/x-r-source",
   "name": "R",
   "pygments_lexer": "r",
   "version": "3.6.1"
  }
 },
 "nbformat": 4,
 "nbformat_minor": 5
}
